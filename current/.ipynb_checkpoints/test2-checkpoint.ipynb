{
 "cells": [
  {
   "cell_type": "markdown",
   "metadata": {},
   "source": [
    "# Will convert to train script"
   ]
  },
  {
   "cell_type": "code",
   "execution_count": 1,
   "metadata": {
    "collapsed": true
   },
   "outputs": [],
   "source": [
    "import os\n",
    "os.environ['CUDA_VISIBLE_DEVICES']='1'\n",
    "import cv2\n",
    "import numpy as np\n",
    "from tqdm import tqdm\n",
    "import tensorflow as tf"
   ]
  },
  {
   "cell_type": "code",
   "execution_count": 2,
   "metadata": {
    "collapsed": true
   },
   "outputs": [],
   "source": [
    "## from baseline-01\n",
    "\n",
    "# from net.common import *\n",
    "# from net.utility.file import *\n",
    "# from net.processing.boxes import *\n",
    "# from net.processing.boxes3d import *\n",
    "# from net.utility.draw import *\n",
    "\n",
    "# from dummynet import *\n",
    "# from data import *\n",
    "\n",
    "# from net.rpn_loss_op import *\n",
    "# from net.rcnn_loss_op import *\n",
    "# from net.rpn_target_op import make_bases, make_anchors, rpn_target\n",
    "# from net.rcnn_target_op import rcnn_target\n",
    "\n",
    "# from net.rpn_nms_op     import draw_rpn_nms, draw_rpn\n",
    "# from net.rcnn_nms_op    import rcnn_nms, draw_rcnn_nms, draw_rcnn\n",
    "# from net.rpn_target_op  import draw_rpn_gt, draw_rpn_targets, draw_rpn_labels\n",
    "# from net.rcnn_target_op import draw_rcnn_targets, draw_rcnn_labels\n"
   ]
  },
  {
   "cell_type": "code",
   "execution_count": 27,
   "metadata": {
    "collapsed": true
   },
   "outputs": [],
   "source": [
    "## from baseline-04\n",
    "\n",
    "# from net.utility.file import *\n",
    "# from net.utility.draw import *\n",
    "\n",
    "from net.ops.rcnn_loss_op   import rcnn_loss\n",
    "# from net.ops.rcnn_target_op import draw_rcnn_targets, draw_rcnn_labels\n",
    "# from net.ops.rcnn_target_op import rcnn_target\n",
    "# from net.ops.rcnn_nms_op    import rcnn_nms\n",
    "# from net.ops.rcnn_nms_op    import draw_rcnn_berfore_nms, draw_rcnn_after_nms_top, draw_rcnn_after_nms_surround\n",
    "\n",
    "from net.ops.rpn_loss_op   import rpn_loss\n",
    "# from net.ops.rpn_target_op import draw_rpn_gt, draw_rpn_targets, draw_rpn_labels\n",
    "from net.ops.rpn_target_op import make_bases, make_anchors, rpn_target\n",
    "# from net.ops.rpn_nms_op    import draw_rpn_before_nms, draw_rpn_after_nms\n",
    "\n",
    "from net.blocks import l2_regulariser"
   ]
  },
  {
   "cell_type": "code",
   "execution_count": 4,
   "metadata": {
    "collapsed": true
   },
   "outputs": [],
   "source": [
    "# from mynet import top_feature_net"
   ]
  },
  {
   "cell_type": "code",
   "execution_count": 5,
   "metadata": {
    "collapsed": true
   },
   "outputs": [],
   "source": [
    "# from mynet import * # this seems to give no errors but doesnt do anything"
   ]
  },
  {
   "cell_type": "code",
   "execution_count": 6,
   "metadata": {
    "collapsed": true
   },
   "outputs": [],
   "source": [
    "# from .mynet import top_feature_net"
   ]
  },
  {
   "cell_type": "code",
   "execution_count": 7,
   "metadata": {},
   "outputs": [
    {
     "name": "stdout",
     "output_type": "stream",
     "text": [
      "running init code of roi pooling\n"
     ]
    }
   ],
   "source": [
    "from net.mynet import top_feature_net\n",
    "from net.mynet import surround_feature_net\n",
    "from net.mynet import rgb_feature_net\n",
    "from net.mynet import fusion_net_v2"
   ]
  },
  {
   "cell_type": "code",
   "execution_count": null,
   "metadata": {
    "collapsed": true
   },
   "outputs": [],
   "source": []
  },
  {
   "cell_type": "code",
   "execution_count": null,
   "metadata": {
    "collapsed": true
   },
   "outputs": [],
   "source": []
  },
  {
   "cell_type": "code",
   "execution_count": null,
   "metadata": {
    "collapsed": true
   },
   "outputs": [],
   "source": []
  },
  {
   "cell_type": "code",
   "execution_count": null,
   "metadata": {
    "collapsed": true
   },
   "outputs": [],
   "source": []
  },
  {
   "cell_type": "code",
   "execution_count": null,
   "metadata": {
    "collapsed": true
   },
   "outputs": [],
   "source": []
  },
  {
   "cell_type": "code",
   "execution_count": 8,
   "metadata": {
    "collapsed": true
   },
   "outputs": [],
   "source": [
    "base_dir = './dummy_data'\n",
    "\n",
    "def load_dummy_datas():\n",
    "\n",
    "    num_frames = 108\n",
    "    rgbs      =[]\n",
    "    lidars    =[]\n",
    "    tops      =[]\n",
    "    fronts    =[]\n",
    "    gt_labels =[]\n",
    "    gt_boxes3d=[]\n",
    "\n",
    "    top_images  =[]\n",
    "    front_images=[]\n",
    "\n",
    "    # fig = mlab.figure(figure=None, bgcolor=(0,0,0), fgcolor=None, engine=None, size=(1000, 500))\n",
    "    for n in tqdm(range(num_frames)):\n",
    "        # print(n)\n",
    "        \n",
    "        curr_dir = os.path.join(base_dir,'rgb')\n",
    "        path = os.path.join(curr_dir,'rgb_{}.png'.format(str(n).zfill(5)))\n",
    "        rgb = cv2.imread(path, 1)\n",
    "        # rgb   = cv2.imread('/root/share/project/didi/data/kitti/dummy/seg/rgb/rgb_%05d.png'%n,1)\n",
    "        \n",
    "        curr_dir_lidar = os.path.join(base_dir,'lidar')\n",
    "        path = os.path.join(curr_dir_lidar,'lidar_{}.npy'.format(str(n).zfill(5)))\n",
    "        lidar = np.load(path)\n",
    "        # lidar = np.load('/root/share/project/didi/data/kitti/dummy/seg/lidar/lidar_%05d.npy'%n)\n",
    "        \n",
    "        curr_dir_top = os.path.join(base_dir,'top')\n",
    "        path = os.path.join(curr_dir_top,'top_{}.npy'.format(str(n).zfill(5)))\n",
    "        top = np.load(path)\n",
    "        # top   = np.load('/root/share/project/didi/data/kitti/dummy/seg/top/top_%05d.npy'%n)\n",
    "        \n",
    "        front = np.zeros((1,1),dtype=np.float32)\n",
    "        \n",
    "        \n",
    "        curr_dir_gt_labels = os.path.join(base_dir,'gt_labels')\n",
    "        path = os.path.join(curr_dir_gt_labels,'gt_labels_{}.npy'.format(str(n).zfill(5)))\n",
    "        gt_label = np.load(path)\n",
    "        # gt_label  = np.load('/root/share/project/didi/data/kitti/dummy/seg/gt_labels/gt_labels_%05d.npy'%n)\n",
    "        \n",
    "        curr_dir_gt_boxes3d = os.path.join(base_dir,'gt_boxes3d')\n",
    "        path = os.path.join(curr_dir_gt_boxes3d,'gt_boxes3d_{}.npy'.format(str(n).zfill(5)))\n",
    "        gt_box3d = np.load(path)\n",
    "        # gt_box3d = np.load('/root/share/project/didi/data/kitti/dummy/seg/gt_boxes3d/gt_boxes3d_%05d.npy'%n)\n",
    "\n",
    "        curr_dir_top_image = os.path.join(base_dir,'top_image')\n",
    "        path = os.path.join(curr_dir_top_image,'top_image_{}.png'.format(str(n).zfill(5)))\n",
    "        top_image = cv2.imread(path, 1)\n",
    "        # top_image   = cv2.imread('/root/share/project/didi/data/kitti/dummy/seg/top_image/top_image_%05d.png'%n,1)\n",
    "        \n",
    "        front_image = np.zeros((1,1,3),dtype=np.float32)\n",
    "\n",
    "        rgbs.append(rgb)\n",
    "        lidars.append(lidar)\n",
    "        tops.append(top)\n",
    "        fronts.append(front)\n",
    "        gt_labels.append(gt_label)\n",
    "        gt_boxes3d.append(gt_box3d)\n",
    "\n",
    "        top_images.append(top_image)\n",
    "        front_images.append(front_image)\n",
    "\n",
    "\n",
    "        # explore dataset:\n",
    "        '''\n",
    "        print (gt_box3d)\n",
    "        if 0:\n",
    "            projections=box3d_to_rgb_projections(gt_box3d)\n",
    "            rgb1 = draw_rgb_projections(rgb, projections, color=(255,255,255), thickness=2)\n",
    "            top_image1 = draw_box3d_on_top(top_image, gt_box3d, color=(255,255,255), thickness=2)\n",
    "\n",
    "            imshow('rgb',rgb1)\n",
    "            imshow('top_image',top_image1)\n",
    "\n",
    "            mlab.clf(fig)\n",
    "            draw_lidar(lidar, fig=fig)\n",
    "            draw_gt_boxes3d(gt_box3d, fig=fig)\n",
    "            mlab.show(1)\n",
    "            cv2.waitKey(1)\n",
    "\n",
    "            pass\n",
    "        '''\n",
    "\n",
    "    ##exit(0)\n",
    "    # mlab.close(all=True)\n",
    "    return  rgbs, tops, fronts, gt_labels, gt_boxes3d, top_images, front_images, lidars"
   ]
  },
  {
   "cell_type": "markdown",
   "metadata": {},
   "source": [
    "## train function"
   ]
  },
  {
   "cell_type": "code",
   "execution_count": 9,
   "metadata": {
    "collapsed": true
   },
   "outputs": [],
   "source": [
    "# output dir, etc\n",
    "out_dir = './out_dir'\n",
    "if not os.path.exists(out_dir +'/tf'):\n",
    "    os.makedirs(out_dir +'/tf')\n",
    "if not os.path.exists(out_dir +'/check_points'):\n",
    "    os.makedirs(out_dir +'/check_points')"
   ]
  },
  {
   "cell_type": "code",
   "execution_count": 10,
   "metadata": {
    "collapsed": true
   },
   "outputs": [],
   "source": [
    "ratios=np.array([0.5,1,2], dtype=np.float32)\n",
    "scales=np.array([1,2,3],   dtype=np.float32)\n",
    "bases = make_bases(\n",
    "    base_size = 16,\n",
    "    ratios=ratios,\n",
    "    scales=scales\n",
    ")\n",
    "num_bases = len(bases)\n",
    "stride = 8"
   ]
  },
  {
   "cell_type": "code",
   "execution_count": 11,
   "metadata": {},
   "outputs": [
    {
     "data": {
      "text/plain": [
       "array([[ -3.5,   2. ,  18.5,  13. ],\n",
       "       [-15. ,  -4. ,  30. ,  19. ],\n",
       "       [-26.5, -10. ,  41.5,  25. ],\n",
       "       [  0. ,   0. ,  15. ,  15. ],\n",
       "       [ -8. ,  -8. ,  23. ,  23. ],\n",
       "       [-16. , -16. ,  31. ,  31. ],\n",
       "       [  2.5,  -3. ,  12.5,  18. ],\n",
       "       [ -3. , -14. ,  18. ,  29. ],\n",
       "       [ -8.5, -25. ,  23.5,  40. ]], dtype=float32)"
      ]
     },
     "execution_count": 11,
     "metadata": {},
     "output_type": "execute_result"
    }
   ],
   "source": [
    "bases"
   ]
  },
  {
   "cell_type": "code",
   "execution_count": 12,
   "metadata": {},
   "outputs": [
    {
     "name": "stderr",
     "output_type": "stream",
     "text": [
      "100%|██████████| 108/108 [00:01<00:00, 54.94it/s]\n"
     ]
    }
   ],
   "source": [
    "rgbs, tops, fronts, gt_labels, gt_boxes3d, top_imgs, front_imgs, lidars = load_dummy_datas()\n",
    "num_frames = len(rgbs)"
   ]
  },
  {
   "cell_type": "code",
   "execution_count": 13,
   "metadata": {
    "collapsed": true
   },
   "outputs": [],
   "source": [
    "top_shape   = tops[0].shape\n",
    "front_shape = fronts[0].shape\n",
    "rgb_shape   = rgbs[0].shape\n",
    "top_feature_shape = (top_shape[0]//stride, top_shape[1]//stride)\n",
    "out_shape=(8,3)"
   ]
  },
  {
   "cell_type": "code",
   "execution_count": 14,
   "metadata": {},
   "outputs": [
    {
     "name": "stdout",
     "output_type": "stream",
     "text": [
      "(400, 400, 8) (1, 1) (375, 1242, 3) (50, 50)\n"
     ]
    }
   ],
   "source": [
    "print(top_shape, front_shape, rgb_shape, top_feature_shape)"
   ]
  },
  {
   "cell_type": "code",
   "execution_count": 15,
   "metadata": {},
   "outputs": [
    {
     "name": "stdout",
     "output_type": "stream",
     "text": [
      "out_shape=(8, 3)\n",
      "num_frames=108\n"
     ]
    }
   ],
   "source": [
    "# set anchor boxes\n",
    "num_class = 4 #incude background\n",
    "anchors, inside_inds =  make_anchors(bases, stride, top_shape[0:2], top_feature_shape[0:2])\n",
    "inside_inds = np.arange(0,len(anchors),dtype=np.int32)  #use all  #<todo>\n",
    "print ('out_shape=%s'%str(out_shape))\n",
    "print ('num_frames=%d'%num_frames)"
   ]
  },
  {
   "cell_type": "code",
   "execution_count": 16,
   "metadata": {},
   "outputs": [
    {
     "data": {
      "text/plain": [
       "array([[ -3,   2,  18,  13],\n",
       "       [-15,  -4,  30,  19],\n",
       "       [-26, -10,  41,  25],\n",
       "       ..., \n",
       "       [394, 389, 404, 410],\n",
       "       [389, 378, 410, 421],\n",
       "       [383, 367, 415, 432]], dtype=int32)"
      ]
     },
     "execution_count": 16,
     "metadata": {},
     "output_type": "execute_result"
    }
   ],
   "source": [
    "anchors"
   ]
  },
  {
   "cell_type": "code",
   "execution_count": 17,
   "metadata": {},
   "outputs": [
    {
     "data": {
      "text/plain": [
       "(22500, 4)"
      ]
     },
     "execution_count": 17,
     "metadata": {},
     "output_type": "execute_result"
    }
   ],
   "source": [
    "anchors.shape"
   ]
  },
  {
   "cell_type": "code",
   "execution_count": 18,
   "metadata": {},
   "outputs": [
    {
     "data": {
      "text/plain": [
       "array([    0,     1,     2, ..., 22497, 22498, 22499], dtype=int32)"
      ]
     },
     "execution_count": 18,
     "metadata": {},
     "output_type": "execute_result"
    }
   ],
   "source": [
    "inside_inds"
   ]
  },
  {
   "cell_type": "code",
   "execution_count": 19,
   "metadata": {
    "collapsed": true
   },
   "outputs": [],
   "source": [
    "#load model ####################################################################################################\n",
    "top_anchors     = tf.placeholder(shape=[None, 4], dtype=tf.int32,   name ='anchors'    )\n",
    "top_inside_inds = tf.placeholder(shape=[None   ], dtype=tf.int32,   name ='inside_inds')\n",
    "\n",
    "top_images   = tf.placeholder(shape=[None, *top_shape  ], dtype=tf.float32, name='top'  )\n",
    "front_images = tf.placeholder(shape=[None, *front_shape], dtype=tf.float32, name='front')\n",
    "rgb_images   = tf.placeholder(shape=[None, *rgb_shape  ], dtype=tf.float32, name='rgb'  )\n",
    "top_rois     = tf.placeholder(shape=[None, 5], dtype=tf.float32,   name ='top_rois'   ) #<todo> change to int32???\n",
    "front_rois   = tf.placeholder(shape=[None, 5], dtype=tf.float32,   name ='front_rois' )\n",
    "rgb_rois     = tf.placeholder(shape=[None, 5], dtype=tf.float32,   name ='rgb_rois'   )"
   ]
  },
  {
   "cell_type": "code",
   "execution_count": 20,
   "metadata": {},
   "outputs": [
    {
     "name": "stdout",
     "output_type": "stream",
     "text": [
      "top: scale=0.250000, stride=4\n"
     ]
    }
   ],
   "source": [
    "top_stride, top_features, top_scores, top_probs, top_deltas, proposals, proposal_scores = \\\n",
    "    top_feature_net(top_images, top_anchors, top_inside_inds, num_bases)"
   ]
  },
  {
   "cell_type": "code",
   "execution_count": 21,
   "metadata": {
    "collapsed": true
   },
   "outputs": [],
   "source": [
    "# front_stride, front_features = surround_feature_net(front_images) # front <--> surround"
   ]
  },
  {
   "cell_type": "code",
   "execution_count": 22,
   "metadata": {
    "collapsed": true
   },
   "outputs": [],
   "source": [
    "rgb_stride, rgb_features = rgb_feature_net(rgb_images)"
   ]
  },
  {
   "cell_type": "markdown",
   "metadata": {},
   "source": [
    "fuse_scores, fuse_probs, fuse_deltas = \\\n",
    "        fusion_net(\n",
    "\t\t\t([top_features,     top_rois,     6,6,1./stride]),\n",
    "\t\t\t  # [rgb_features,     rgb_rois,     6,6,1./stride]),\n",
    "            num_class, out_shape) #<todo>  add non max suppression\n",
    "# # [front_features,   front_rois,   0,0,1./stride],  #disable by 0,0"
   ]
  },
  {
   "cell_type": "code",
   "execution_count": 23,
   "metadata": {
    "collapsed": true
   },
   "outputs": [],
   "source": [
    "fuse_scores, fuse_probs, fuse_deltas = fusion_net_v2(\n",
    "\t([top_features, top_rois, 6, 6, 1./stride]), num_class, out_shape)"
   ]
  },
  {
   "cell_type": "code",
   "execution_count": 24,
   "metadata": {
    "collapsed": true
   },
   "outputs": [],
   "source": [
    "#loss ########################################################################################################\n",
    "top_inds     = tf.placeholder(shape=[None   ], dtype=tf.int32,   name='top_ind'    )\n",
    "top_pos_inds = tf.placeholder(shape=[None   ], dtype=tf.int32,   name='top_pos_ind')\n",
    "top_labels   = tf.placeholder(shape=[None   ], dtype=tf.int32,   name='top_label'  )\n",
    "top_targets  = tf.placeholder(shape=[None, 4], dtype=tf.float32, name='top_target' )\n",
    "top_cls_loss, top_reg_loss = rpn_loss(top_scores, top_deltas, top_inds, top_pos_inds, top_labels, top_targets)"
   ]
  },
  {
   "cell_type": "code",
   "execution_count": 25,
   "metadata": {
    "collapsed": true
   },
   "outputs": [],
   "source": [
    "fuse_labels  = tf.placeholder(shape=[None            ], dtype=tf.int32,   name='fuse_label' )\n",
    "fuse_targets = tf.placeholder(shape=[None, *out_shape], dtype=tf.float32, name='fuse_target')\n",
    "fuse_cls_loss, fuse_reg_loss = rcnn_loss(fuse_scores, fuse_deltas, fuse_labels, fuse_targets)"
   ]
  },
  {
   "cell_type": "code",
   "execution_count": 28,
   "metadata": {},
   "outputs": [
    {
     "name": "stderr",
     "output_type": "stream",
     "text": [
      "/home/rohan/anaconda3/lib/python3.6/site-packages/tensorflow/python/ops/gradients_impl.py:91: UserWarning: Converting sparse IndexedSlices to a dense Tensor of unknown shape. This may consume a large amount of memory.\n",
      "  \"Converting sparse IndexedSlices to a dense Tensor of unknown shape. \"\n"
     ]
    },
    {
     "ename": "NameError",
     "evalue": "name 'log' is not defined",
     "output_type": "error",
     "traceback": [
      "\u001b[0;31m---------------------------------------------------------------------------\u001b[0m",
      "\u001b[0;31mNameError\u001b[0m                                 Traceback (most recent call last)",
      "\u001b[0;32m<ipython-input-28-8ddde543fe08>\u001b[0m in \u001b[0;36m<module>\u001b[0;34m()\u001b[0m\n\u001b[1;32m     11\u001b[0m \u001b[0miter_debug\u001b[0m \u001b[0;34m=\u001b[0m \u001b[0;36m8\u001b[0m\u001b[0;34m\u001b[0m\u001b[0m\n\u001b[1;32m     12\u001b[0m \u001b[0;31m# start training here  #########################################################################################\u001b[0m\u001b[0;34m\u001b[0m\u001b[0;34m\u001b[0m\u001b[0m\n\u001b[0;32m---> 13\u001b[0;31m \u001b[0mlog\u001b[0m\u001b[0;34m.\u001b[0m\u001b[0mwrite\u001b[0m\u001b[0;34m(\u001b[0m\u001b[0;34m'epoch     iter    rate   |  top_cls_loss   reg_loss   |  fuse_cls_loss  reg_loss  |  \\n'\u001b[0m\u001b[0;34m)\u001b[0m\u001b[0;34m\u001b[0m\u001b[0m\n\u001b[0m\u001b[1;32m     14\u001b[0m \u001b[0mlog\u001b[0m\u001b[0;34m.\u001b[0m\u001b[0mwrite\u001b[0m\u001b[0;34m(\u001b[0m\u001b[0;34m'-------------------------------------------------------------------------------------\\n'\u001b[0m\u001b[0;34m)\u001b[0m\u001b[0;34m\u001b[0m\u001b[0m\n\u001b[1;32m     15\u001b[0m \u001b[0;34m\u001b[0m\u001b[0m\n",
      "\u001b[0;31mNameError\u001b[0m: name 'log' is not defined"
     ]
    }
   ],
   "source": [
    "#solver\n",
    "l2 = l2_regulariser(decay=0.0005)\n",
    "learning_rate = tf.placeholder(tf.float32, shape=[])\n",
    "solver = tf.train.MomentumOptimizer(learning_rate=learning_rate, momentum=0.9)\n",
    "#solver_step = solver.minimize(top_cls_loss+top_reg_loss+l2)\n",
    "solver_step = solver.minimize(top_cls_loss + 0.1*top_reg_loss + 0.1*fuse_cls_loss+0.01*fuse_reg_loss+l2)\n",
    "\n",
    "\n",
    "\n",
    "max_iter = 20000\n",
    "iter_debug = 8\n",
    "# start training here  #########################################################################################\n",
    "log.write('epoch     iter    rate   |  top_cls_loss   reg_loss   |  fuse_cls_loss  reg_loss  |  \\n')\n",
    "log.write('-------------------------------------------------------------------------------------\\n')\n",
    "\n",
    "num_ratios = len(ratios)\n",
    "num_scales = len(scales)\n",
    "fig, axs   = plt.subplots(num_scales,num_ratios)\n"
   ]
  },
  {
   "cell_type": "code",
   "execution_count": null,
   "metadata": {
    "collapsed": true
   },
   "outputs": [],
   "source": []
  }
 ],
 "metadata": {
  "kernelspec": {
   "display_name": "Python 3",
   "language": "python",
   "name": "python3"
  },
  "language_info": {
   "codemirror_mode": {
    "name": "ipython",
    "version": 3
   },
   "file_extension": ".py",
   "mimetype": "text/x-python",
   "name": "python",
   "nbconvert_exporter": "python",
   "pygments_lexer": "ipython3",
   "version": "3.6.2"
  }
 },
 "nbformat": 4,
 "nbformat_minor": 2
}
